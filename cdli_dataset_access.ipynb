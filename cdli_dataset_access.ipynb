{
 "cells": [
  {
   "cell_type": "markdown",
   "id": "8bf783c5",
   "metadata": {},
   "source": [
    "# Access the CDLI datasets"
   ]
  },
  {
   "cell_type": "markdown",
   "id": "04e7389e",
   "metadata": {},
   "source": [
    "## Imports and Login to HF"
   ]
  },
  {
   "cell_type": "code",
   "execution_count": null,
   "id": "a35cd82a",
   "metadata": {},
   "outputs": [],
   "source": [
    "import datasets\n",
    "from huggingface_hub import hf_hub_download\n",
    "from IPython.display import Audio, display\n",
    "import pandas as pd\n",
    "import itables"
   ]
  },
  {
   "cell_type": "code",
   "execution_count": null,
   "id": "835a4550",
   "metadata": {},
   "outputs": [],
   "source": [
    "from huggingface_hub import login, whoami\n",
    "HF_TOKEN = input()\n",
    "login(token=HF_TOKEN)"
   ]
  },
  {
   "cell_type": "code",
   "execution_count": null,
   "id": "ddcbefce",
   "metadata": {},
   "outputs": [],
   "source": [
    "whoami()['fullname']"
   ]
  },
  {
   "cell_type": "markdown",
   "id": "8781ab6b",
   "metadata": {},
   "source": [
    "## Load the datasets\n",
    "\n",
    "While the datasets are public, you need to request access (and accept the Terms & Conditions). When done, you will be able to load the data here (otherwise this will cause an error).\n",
    "\n",
    "Dataset sites:\n",
    "\n",
    "* https://huggingface.co/datasets/cdli/kenyan_swahili_nonstandard_speech_v0\n",
    "* https://huggingface.co/datasets/cdli/kenyan_english_nonstandard_speech_v0\n"
   ]
  },
  {
   "cell_type": "markdown",
   "id": "f946df2e",
   "metadata": {},
   "source": [
    "### Audio Samples\n",
    "\n",
    "* also called \"utterances\""
   ]
  },
  {
   "cell_type": "code",
   "execution_count": null,
   "id": "6e6e167f",
   "metadata": {},
   "outputs": [],
   "source": [
    "dataset_name = 'cdli/kenyan_english_nonstandard_speech_v0'\n",
    "ds_en = datasets.load_dataset(dataset_name, split='test', streaming=False)\n",
    "ds_en"
   ]
  },
  {
   "cell_type": "markdown",
   "id": "40e66c33",
   "metadata": {},
   "source": [
    "#### Inspect individual samples\n",
    "\n",
    "* shows all metadata\n",
    "* also has the audio (name of file, sampling rate, loaded into array)\n",
    "* you can filter ..."
   ]
  },
  {
   "cell_type": "code",
   "execution_count": null,
   "id": "b7b6009f",
   "metadata": {},
   "outputs": [],
   "source": [
    "ds_en[0]"
   ]
  },
  {
   "cell_type": "code",
   "execution_count": null,
   "id": "18bf63e2",
   "metadata": {},
   "outputs": [],
   "source": [
    "# get speaker 1 data\n",
    "ds_en_speaker1 = ds_en.filter(lambda example: example['speaker_id']=='KES001')\n",
    "len(ds_en_speaker1)\n"
   ]
  },
  {
   "cell_type": "markdown",
   "id": "a6621d55",
   "metadata": {},
   "source": [
    "#### Play Audio"
   ]
  },
  {
   "cell_type": "code",
   "execution_count": null,
   "id": "022c8a31",
   "metadata": {},
   "outputs": [],
   "source": [
    "# get audio file and transcript\n",
    "audio_data = ds_en_speaker1[0]['audio']['array']\n",
    "sample_rate = ds_en_speaker1[0]['audio']['sampling_rate']\n",
    "print('True transcript:', ds_en_speaker1[0]['transcription'])\n",
    "Audio(audio_data, rate=sample_rate)\n"
   ]
  },
  {
   "cell_type": "markdown",
   "id": "a239fa9d",
   "metadata": {},
   "source": [
    "### Speaker-Level Metadata\n",
    "\n",
    "In addition to the utterances along with their metadata, we also have some additional information on the speakers, which we can share.\n",
    "This information will be helpful later when evaluating and analyzing the data, hence you need to know how to use it.\n",
    "\n",
    "You can see the metadata as a separate file ('speaker_metadata.csv') on the HuggingFace website, eg see here:\n",
    "https://huggingface.co/datasets/cdli/kenyan_english_nonstandard_speech_v0/tree/main"
   ]
  },
  {
   "cell_type": "code",
   "execution_count": null,
   "id": "fae14f23",
   "metadata": {},
   "outputs": [],
   "source": [
    "metadata_file_path = hf_hub_download(\n",
    "        repo_id=dataset_name,\n",
    "        filename=\"speaker_metadata.csv\",\n",
    "        repo_type=\"dataset\"\n",
    "    )\n",
    "metadata_df = pd.read_csv(metadata_file_path)\n"
   ]
  },
  {
   "cell_type": "markdown",
   "id": "82ed354f",
   "metadata": {},
   "source": [
    "#### Individual Fields"
   ]
  },
  {
   "cell_type": "code",
   "execution_count": null,
   "id": "721e0fe5",
   "metadata": {},
   "outputs": [],
   "source": [
    "metadata_df.gender.value_counts().round(2)"
   ]
  },
  {
   "cell_type": "code",
   "execution_count": null,
   "id": "4f9c8bcf",
   "metadata": {},
   "outputs": [],
   "source": [
    "metadata_df.severity_speech_impairment.value_counts()"
   ]
  },
  {
   "cell_type": "code",
   "execution_count": null,
   "id": "82864425",
   "metadata": {},
   "outputs": [],
   "source": [
    "metadata_df.etiology.value_counts().round(2)"
   ]
  },
  {
   "cell_type": "code",
   "execution_count": null,
   "id": "2f00a485",
   "metadata": {},
   "outputs": [],
   "source": [
    "metadata_df.type_nonstandard_speech.value_counts().round(2)"
   ]
  },
  {
   "cell_type": "markdown",
   "id": "acd56f6d",
   "metadata": {},
   "source": [
    "#### Further analysis"
   ]
  },
  {
   "cell_type": "code",
   "execution_count": null,
   "id": "78a9aae7",
   "metadata": {},
   "outputs": [],
   "source": [
    "\n",
    "itables.show(metadata_df, column_filters=\"header\",)"
   ]
  },
  {
   "cell_type": "markdown",
   "id": "289284df",
   "metadata": {},
   "source": [
    "# Example: \n",
    "\n",
    "* lets find a speaker with severe speech impairment and speech disorder not being Stuttering\n",
    "* filter for their data and listen to a few examples\n",
    "* what are they saying ? Do you understand them ?"
   ]
  },
  {
   "cell_type": "code",
   "execution_count": null,
   "id": "7f69078d",
   "metadata": {},
   "outputs": [],
   "source": [
    "metadata_df[(metadata_df.severity_speech_impairment=='Severe (frequent breakdowns)') & (metadata_df.type_nonstandard_speech=='Dysarthria')]"
   ]
  },
  {
   "cell_type": "code",
   "execution_count": null,
   "id": "0438deba",
   "metadata": {},
   "outputs": [],
   "source": [
    "speaker_id = 'KES003'\n",
    "ds_en_selected_speaker = ds_en.filter(lambda example: example['speaker_id']==speaker_id)\n",
    "len(ds_en_selected_speaker)\n",
    "\n"
   ]
  },
  {
   "cell_type": "code",
   "execution_count": null,
   "id": "a6773679",
   "metadata": {},
   "outputs": [],
   "source": [
    "# get audio file and transcript\n",
    "\n",
    "for i in range(0,3):\n",
    "    print('>> next example')\n",
    "    audio_data = ds_en_selected_speaker[i]['audio']['array']\n",
    "    sample_rate = ds_en_selected_speaker[i]['audio']['sampling_rate']\n",
    "    print('True transcript:', ds_en_selected_speaker[i]['transcription'])\n",
    "    display(Audio(audio_data, rate=sample_rate))"
   ]
  }
 ],
 "metadata": {
  "kernelspec": {
   "display_name": "Python 3 (ipykernel)",
   "language": "python",
   "name": "python3"
  },
  "language_info": {
   "codemirror_mode": {
    "name": "ipython",
    "version": 3
   },
   "file_extension": ".py",
   "mimetype": "text/x-python",
   "name": "python",
   "nbconvert_exporter": "python",
   "pygments_lexer": "ipython3",
   "version": "3.11.5"
  }
 },
 "nbformat": 4,
 "nbformat_minor": 5
}
